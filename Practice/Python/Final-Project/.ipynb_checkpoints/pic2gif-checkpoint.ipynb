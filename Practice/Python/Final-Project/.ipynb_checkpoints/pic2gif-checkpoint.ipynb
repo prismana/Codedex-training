{
 "cells": [
  {
   "cell_type": "code",
   "execution_count": 1,
   "id": "8cc45280-5a11-4bdb-93e4-ca738dec0309",
   "metadata": {},
   "outputs": [],
   "source": [
    "import imageio.v3 as iio"
   ]
  },
  {
   "cell_type": "code",
   "execution_count": 5,
   "id": "6eea3a8e-ea6c-4cc5-9946-d765bfce9f36",
   "metadata": {},
   "outputs": [],
   "source": [
    "# Store the image in var\n",
    "filenames = ['dino/dino1.png', \n",
    "             'dino/dino2.png',\n",
    "             'dino/dino3.png',\n",
    "             'dino/dino4.png',]\n",
    "images = []"
   ]
  },
  {
   "cell_type": "code",
   "execution_count": 6,
   "id": "9119d9b7-05b7-4d51-a13c-c150a6e31fbc",
   "metadata": {},
   "outputs": [],
   "source": [
    "# Load image using imread from imageio module\n",
    "\n",
    "for filename in filenames:\n",
    "    images.append(iio.imread(filename))"
   ]
  },
  {
   "cell_type": "code",
   "execution_count": 7,
   "id": "5e49f9d8-020d-4b84-8621-6b285a48f8a7",
   "metadata": {},
   "outputs": [],
   "source": [
    "# Turn image to gif using imwrite method\n",
    "\n",
    "iio.imwrite('dino.gif', images, duration=500, loop=0)"
   ]
  }
 ],
 "metadata": {
  "kernelspec": {
   "display_name": "Python [conda env:main-ds]",
   "language": "python",
   "name": "conda-env-main-ds-py"
  },
  "language_info": {
   "codemirror_mode": {
    "name": "ipython",
    "version": 3
   },
   "file_extension": ".py",
   "mimetype": "text/x-python",
   "name": "python",
   "nbconvert_exporter": "python",
   "pygments_lexer": "ipython3",
   "version": "3.11.10"
  }
 },
 "nbformat": 4,
 "nbformat_minor": 5
}
